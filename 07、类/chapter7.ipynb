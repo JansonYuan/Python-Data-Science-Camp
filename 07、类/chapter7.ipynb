{
 "cells": [
  {
   "cell_type": "markdown",
   "metadata": {},
   "source": [
    "## 题目一（类的定义与调用）："
   ]
  },
  {
   "cell_type": "markdown",
   "metadata": {},
   "source": [
    "### 1、构造一个银联信用卡的类："
   ]
  },
  {
   "cell_type": "markdown",
   "metadata": {},
   "source": [
    "* 包含如下属性：\n",
    "\n",
    " 顾客姓名\n",
    " \n",
    " 信用卡授信额度\n",
    " \n",
    " 当前额度\n",
    " \n",
    " 单次刷卡金额上限"
   ]
  },
  {
   "cell_type": "markdown",
   "metadata": {},
   "source": [
    "* 包含如下方法："
   ]
  },
  {
   "cell_type": "markdown",
   "metadata": {},
   "source": [
    " 分别获得上述属性的方法；\n",
    "\n",
    " 对授信额度进行修改的方法；\n",
    "\n",
    " 对单次刷卡金额上限修改的方法；\n",
    "\n",
    " 实现刷卡方法，传入一个刷卡金额，先判断是否超过单次刷卡金额上限以及当前额度是否够用，如合理，则执行刷卡，将当前额度减去刷卡金额。"
   ]
  },
  {
   "cell_type": "markdown",
   "metadata": {},
   "source": [
    "* 创建信用卡实例："
   ]
  },
  {
   "cell_type": "markdown",
   "metadata": {},
   "source": [
    " 执行调用相应的属性和方法"
   ]
  },
  {
   "cell_type": "code",
   "execution_count": 14,
   "metadata": {},
   "outputs": [
    {
     "name": "stdout",
     "output_type": "stream",
     "text": [
      "name=Tony, amount=10000, current_amount=5000, single_limit=1000\n",
      "你的消费额度修改为20000元\n",
      "你的消费上限修改为5000元\n",
      "你本次消费2000元，剩余额度为18000元\n",
      "你的消费金额无法支付，请检查你的信用额度！\n"
     ]
    }
   ],
   "source": [
    "class UnionPayCreditCard():\n",
    "    '''构造一个银联信用卡的类'''\n",
    "    def __init__(self, name, amount, current_amount, single_limit):\n",
    "        '''\n",
    "        顾客姓名\n",
    "        信用卡授信额度\n",
    "        当前额度\n",
    "        单次刷卡金额上限\n",
    "        '''\n",
    "        self.name = name\n",
    "        self.amount = amount\n",
    "        self.current_amount = current_amount\n",
    "        self.single_limit = single_limit\n",
    "    \n",
    "    \n",
    "    '''对于每个属性分别设置getter'''\n",
    "    def get_name(self):\n",
    "        return self.name\n",
    "    \n",
    "    \n",
    "    def get_amount(self):\n",
    "        return self.amount\n",
    "    \n",
    "    \n",
    "    def get_current_amount(self):\n",
    "        return self.current_amount\n",
    "    \n",
    "    \n",
    "    def get_single_limit(self):\n",
    "        return self.single_limit\n",
    "    \n",
    "    \n",
    "    def modify_amount(self, new_amount):\n",
    "        '''对授信额度进行修改的方法'''\n",
    "        tmp = self.amount\n",
    "        self.amount = new_amount\n",
    "        print(\"你的消费额度修改为{}元\".format(self.amount))\n",
    "        return tmp\n",
    "        \n",
    "        \n",
    "    def modify_single_amount(self, new_single_amount):\n",
    "        '''对单次刷卡金额上限修改的方法'''\n",
    "        tmp = self.single_limit\n",
    "        self.single_limit = new_single_amount\n",
    "        print(\"你的消费上限修改为{}元\".format(self.single_limit))\n",
    "        return tmp\n",
    "    \n",
    "    \n",
    "    def consume(self, cost):\n",
    "        '''实现刷卡方法，传入一个刷卡金额，\n",
    "        先判断是否超过单次刷卡金额上限以及\n",
    "        当前额度是否够用，如合理，则执行刷\n",
    "        卡，将当前额度减去刷卡金额'''\n",
    "        if cost < self.single_limit and cost < self.amount:\n",
    "            self.amount -= cost\n",
    "            print(\"你本次消费{}元，剩余额度为{}元\".format(cost, self.amount))\n",
    "        else:\n",
    "            print(\"你的消费金额无法支付，请检查你的信用额度！\")\n",
    "        return self.amount\n",
    "    \n",
    "    \n",
    "def start():\n",
    "    card = UnionPayCreditCard(\"Tony\", 10000, 5000, 1000)\n",
    "    \n",
    "    name = card.get_name()\n",
    "    amount = card.get_amount()\n",
    "    current_amount = card.get_current_amount()\n",
    "    single_limit = card.get_single_limit()\n",
    "    print(\"name={}, amount={}, current_amount={}, single_limit={}\".format( name, amount, current_amount, single_limit))\n",
    "    \n",
    "    card.modify_amount(20000)\n",
    "    card.modify_single_amount(5000)\n",
    "    card.consume(2000)\n",
    "    card.consume(100000)\n",
    "    \n",
    "    \n",
    "if __name__ == \"__main__\":\n",
    "    start()"
   ]
  },
  {
   "cell_type": "markdown",
   "metadata": {},
   "source": [
    "## 题目二（类的继承）"
   ]
  },
  {
   "cell_type": "markdown",
   "metadata": {},
   "source": [
    "### 2、通过继承银联信用卡的类，构造中国银行信用卡的类："
   ]
  },
  {
   "cell_type": "markdown",
   "metadata": {},
   "source": [
    "* 实现对银联信用卡类的继承；"
   ]
  },
  {
   "cell_type": "markdown",
   "metadata": {},
   "source": [
    "* 新增加属性：中国银行信用卡积分、优惠店铺列表；"
   ]
  },
  {
   "cell_type": "markdown",
   "metadata": {},
   "source": [
    "* 重写刷卡方法："
   ]
  },
  {
   "cell_type": "markdown",
   "metadata": {},
   "source": [
    " 传入消费店铺名称和消费金额，如果店铺名称在优惠店铺列表中，则刷卡金额打95折；\n",
    " \n",
    " 每消费10元，信用卡积分增加1分；\n",
    " \n",
    " 保留父类刷卡方法的其他功能。"
   ]
  },
  {
   "cell_type": "markdown",
   "metadata": {},
   "source": [
    "* 新增如下方法："
   ]
  },
  {
   "cell_type": "markdown",
   "metadata": {},
   "source": [
    " 获得用户积分的方法；\n",
    " \n",
    " 设置优惠店铺列表的方法。"
   ]
  },
  {
   "cell_type": "code",
   "execution_count": 15,
   "metadata": {},
   "outputs": [
    {
     "name": "stdout",
     "output_type": "stream",
     "text": [
      "你的积分为0\n",
      "name=Tony, amount=10000, current_amount=5000, single_limit=1000, integral=0\n",
      "你的消费额度修改为20000元\n",
      "你的消费上限修改为5000元\n",
      "你本次消费1900.0元, 优惠95.0元，获得积分190.0, 已有积分190.0\n"
     ]
    }
   ],
   "source": [
    "class BankOfChinaCreditCard(UnionPayCreditCard):\n",
    "    \n",
    "    def __init__(self, name, amount, current_amount, single_limit):\n",
    "        super().__init__(name, amount, current_amount, single_limit)\n",
    "        self.integral = 0\n",
    "        self.discount_shop = [\"Huawei旗舰店\", \"小米旗舰店\", \"Apple旗舰店\"]\n",
    "        \n",
    "        \n",
    "    def consume(self, shop_name, cost):\n",
    "        '''重写刷卡方法'''\n",
    "        if cost < self.single_limit and cost < self.amount and shop_name in self.discount_shop:\n",
    "            cost *= 0.95\n",
    "            self.integral = cost // 10\n",
    "            print(\"你本次消费{}元, 优惠{}元，获得积分{}, 已有积分{}\".format(cost, 0.05 * cost, cost // 10, self.integral))\n",
    "            \n",
    "            \n",
    "    def get_integral(self):\n",
    "        '''获得用户积分的方法'''\n",
    "        print(\"你的积分为{}\".format(self.integral))\n",
    "        return self.integral\n",
    "    \n",
    "    \n",
    "    def set_discount_shop(self, shop_name):\n",
    "        '''设置优惠店铺列表的方法'''\n",
    "        self.discount_shop.append(shop_name)\n",
    "        return self.discount_shop\n",
    "    \n",
    "    \n",
    "def start():\n",
    "    card = BankOfChinaCreditCard(\"Tony\", 10000, 5000, 1000)\n",
    "    \n",
    "    name = card.get_name()\n",
    "    amount = card.get_amount()\n",
    "    current_amount = card.get_current_amount()\n",
    "    single_limit = card.get_single_limit()\n",
    "    integral = card.get_integral()\n",
    "    print(\"name={}, amount={}, current_amount={}, single_limit={}, integral={}\".format( name, amount, current_amount, single_limit, integral))\n",
    "    \n",
    "    card.modify_amount(20000)\n",
    "    card.modify_single_amount(5000)\n",
    "    card.consume( \"小米旗舰店\", 2000)\n",
    "    card.consume(\"Apple旗舰店\", 100000)\n",
    "    \n",
    "if __name__ == \"__main__\":\n",
    "    start()"
   ]
  },
  {
   "cell_type": "code",
   "execution_count": null,
   "metadata": {},
   "outputs": [],
   "source": []
  }
 ],
 "metadata": {
  "kernelspec": {
   "display_name": "Python 3",
   "language": "python",
   "name": "python3"
  },
  "language_info": {
   "codemirror_mode": {
    "name": "ipython",
    "version": 3
   },
   "file_extension": ".py",
   "mimetype": "text/x-python",
   "name": "python",
   "nbconvert_exporter": "python",
   "pygments_lexer": "ipython3",
   "version": "3.7.3"
  }
 },
 "nbformat": 4,
 "nbformat_minor": 4
}

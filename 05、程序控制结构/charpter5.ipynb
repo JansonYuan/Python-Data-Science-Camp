{
 "cells": [
  {
   "cell_type": "markdown",
   "metadata": {},
   "source": [
    "## 题目一（条件测试）"
   ]
  },
  {
   "cell_type": "markdown",
   "metadata": {},
   "source": [
    "### 1、"
   ]
  },
  {
   "cell_type": "code",
   "execution_count": null,
   "metadata": {},
   "outputs": [],
   "source": [
    "d = {}\n",
    "if d:\n",
    "    print(\"非空\")\n",
    "else:\n",
    "    print(\"空的\")"
   ]
  },
  {
   "cell_type": "code",
   "execution_count": null,
   "metadata": {},
   "outputs": [],
   "source": [
    "True or False and False  # not > and > or"
   ]
  },
  {
   "cell_type": "code",
   "execution_count": null,
   "metadata": {},
   "outputs": [],
   "source": [
    "foods = [\"bread\", \"fish\", \"potato\"]\n",
    "print(\"breads\" in foods)\n",
    "print(\"tomato\" in foods)"
   ]
  },
  {
   "cell_type": "markdown",
   "metadata": {},
   "source": [
    "## 题目二（分支语句）"
   ]
  },
  {
   "cell_type": "markdown",
   "metadata": {},
   "source": [
    "## 2、"
   ]
  },
  {
   "cell_type": "code",
   "execution_count": null,
   "metadata": {},
   "outputs": [],
   "source": [
    "import random as ran\n",
    "ball = [\"白球\", \"黑球\", \"蓝球\", \"粉球\", \"紫球\", \"彩球\"].pop(ran.randrange(6))\n",
    "print(ball)\n",
    "money = 0\n",
    "if ball == \"黑球\":\n",
    "    money = 0\n",
    "elif ball == \"白球\":\n",
    "    money = 10\n",
    "elif ball == \"蓝球\":\n",
    "    money = 20\n",
    "elif ball == \"粉球\":\n",
    "    money = 30\n",
    "elif ball == \"紫球\":\n",
    "    money = 50\n",
    "elif ball == \"彩球\":\n",
    "    money = 100\n",
    "print(money)"
   ]
  },
  {
   "cell_type": "markdown",
   "metadata": {},
   "source": [
    "## 题目三（遍历循环——for）："
   ]
  },
  {
   "cell_type": "markdown",
   "metadata": {},
   "source": [
    "### 3、"
   ]
  },
  {
   "cell_type": "code",
   "execution_count": null,
   "metadata": {},
   "outputs": [],
   "source": [
    "for i in range(1, 10):\n",
    "    for j in range(1, i + 1):\n",
    "        print(\"{} × {} = {}\".format(j, i, i * j), end=\"  \")\n",
    "    print()"
   ]
  },
  {
   "cell_type": "markdown",
   "metadata": {},
   "source": [
    "## 题目四（条件循环——while）："
   ]
  },
  {
   "cell_type": "markdown",
   "metadata": {},
   "source": [
    "### 4、"
   ]
  },
  {
   "cell_type": "code",
   "execution_count": null,
   "metadata": {},
   "outputs": [],
   "source": [
    "students_of_grade3_class2 = {}\n",
    "    \n",
    "while True:\n",
    "    id, name, sex = input(\"请输入高三二班学生学号、姓名、性别：\").split(\" \")\n",
    "    students_of_grade3_class2[id] = (name, sex)\n",
    "    if id in [\"Q\", \"q\"]:\n",
    "        break\n",
    "        \n",
    "for k, v in students_of_grade3_class2.items():\n",
    "    print(k, v)"
   ]
  },
  {
   "cell_type": "markdown",
   "metadata": {},
   "source": [
    "## 题目五（注意问题）"
   ]
  },
  {
   "cell_type": "markdown",
   "metadata": {},
   "source": [
    "### 5、"
   ]
  },
  {
   "cell_type": "code",
   "execution_count": null,
   "metadata": {},
   "outputs": [],
   "source": [
    "i = 0\n",
    "while i <= 5:\n",
    "    print(i)"
   ]
  },
  {
   "cell_type": "code",
   "execution_count": null,
   "metadata": {},
   "outputs": [],
   "source": []
  }
 ],
 "metadata": {
  "kernelspec": {
   "display_name": "Python 3",
   "language": "python",
   "name": "python3"
  },
  "language_info": {
   "codemirror_mode": {
    "name": "ipython",
    "version": 3
   },
   "file_extension": ".py",
   "mimetype": "text/x-python",
   "name": "python",
   "nbconvert_exporter": "python",
   "pygments_lexer": "ipython3",
   "version": "3.7.3"
  }
 },
 "nbformat": 4,
 "nbformat_minor": 4
}

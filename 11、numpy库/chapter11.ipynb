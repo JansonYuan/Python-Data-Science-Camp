{
 "cells": [
  {
   "cell_type": "code",
   "execution_count": 1,
   "metadata": {},
   "outputs": [],
   "source": [
    "import numpy as np\n",
    "import random"
   ]
  },
  {
   "cell_type": "markdown",
   "metadata": {},
   "source": [
    "## 题目一 简单编程题（numpy数组的创建和性质）"
   ]
  },
  {
   "cell_type": "markdown",
   "metadata": {},
   "source": [
    "### 1、创建一个4*6的二维数组，元素由0~1之间均匀分布的随机数构成，输出其形状、大小、维度和数据类型。"
   ]
  },
  {
   "cell_type": "code",
   "execution_count": 2,
   "metadata": {},
   "outputs": [
    {
     "name": "stdout",
     "output_type": "stream",
     "text": [
      "[[0.87234165 0.76793816 0.20329659 0.67588528 0.39278516 0.30852181]\n",
      " [0.3722015  0.17675793 0.01827887 0.33450565 0.22872758 0.35906343]\n",
      " [0.4448989  0.0355992  0.88128631 0.40998858 0.31613782 0.61468709]\n",
      " [0.80893753 0.20962329 0.84701968 0.61099015 0.50922118 0.65357641]]\n",
      "shape = (4, 6), size = 24, dimension = 2, dtype = float64\n"
     ]
    }
   ],
   "source": [
    "arr = np.random.random((4, 6))\n",
    "print(arr)\n",
    "print(\"shape = {}, size = {}, dimension = {}, dtype = {}\"\n",
    "      .format((arr.shape[0], arr.shape[1]), arr.size, arr.ndim, arr.dtype))"
   ]
  },
  {
   "cell_type": "markdown",
   "metadata": {},
   "source": [
    "### 2、将（1）中的二维数组分别转换为3*8的数组和摊平为一维数组。"
   ]
  },
  {
   "cell_type": "code",
   "execution_count": 3,
   "metadata": {},
   "outputs": [
    {
     "name": "stdout",
     "output_type": "stream",
     "text": [
      "[[0.87234165 0.76793816 0.20329659 0.67588528 0.39278516 0.30852181\n",
      "  0.3722015  0.17675793]\n",
      " [0.01827887 0.33450565 0.22872758 0.35906343 0.4448989  0.0355992\n",
      "  0.88128631 0.40998858]\n",
      " [0.31613782 0.61468709 0.80893753 0.20962329 0.84701968 0.61099015\n",
      "  0.50922118 0.65357641]]\n"
     ]
    }
   ],
   "source": [
    "print(arr.reshape(3, 8))"
   ]
  },
  {
   "cell_type": "code",
   "execution_count": 4,
   "metadata": {},
   "outputs": [
    {
     "name": "stdout",
     "output_type": "stream",
     "text": [
      "[0.87234165 0.76793816 0.20329659 0.67588528 0.39278516 0.30852181\n",
      " 0.3722015  0.17675793 0.01827887 0.33450565 0.22872758 0.35906343\n",
      " 0.4448989  0.0355992  0.88128631 0.40998858 0.31613782 0.61468709\n",
      " 0.80893753 0.20962329 0.84701968 0.61099015 0.50922118 0.65357641]\n"
     ]
    }
   ],
   "source": [
    "print(arr.reshape(-1))"
   ]
  },
  {
   "cell_type": "markdown",
   "metadata": {},
   "source": [
    "### 3、创建2个4*4的二维数组，元素为整数，随机取自区间[0, 10)，请将两个数组分别进行水平拼接和垂直拼接。"
   ]
  },
  {
   "cell_type": "code",
   "execution_count": 5,
   "metadata": {},
   "outputs": [
    {
     "name": "stdout",
     "output_type": "stream",
     "text": [
      "arr2 = \n",
      "[[9 5 7 7]\n",
      " [2 5 2 9]\n",
      " [8 7 4 0]\n",
      " [4 1 5 3]]\n",
      "arr3 = \n",
      "[[9 0 5 1]\n",
      " [2 0 2 1]\n",
      " [5 5 5 1]\n",
      " [4 6 1 6]]\n"
     ]
    }
   ],
   "source": [
    "arr2 = np.random.randint(0, 10, (4, 4))\n",
    "arr3 = np.random.randint(0, 10, (4, 4))\n",
    "print(\"arr2 = \\n{}\".format(arr2))\n",
    "print(\"arr3 = \\n{}\".format(arr3))"
   ]
  },
  {
   "cell_type": "code",
   "execution_count": 6,
   "metadata": {},
   "outputs": [
    {
     "name": "stdout",
     "output_type": "stream",
     "text": [
      "[[9 5 7 7 9 0 5 1]\n",
      " [2 5 2 9 2 0 2 1]\n",
      " [8 7 4 0 5 5 5 1]\n",
      " [4 1 5 3 4 6 1 6]]\n",
      "\n",
      "\n",
      "[[9 5 7 7]\n",
      " [2 5 2 9]\n",
      " [8 7 4 0]\n",
      " [4 1 5 3]\n",
      " [9 0 5 1]\n",
      " [2 0 2 1]\n",
      " [5 5 5 1]\n",
      " [4 6 1 6]]\n"
     ]
    }
   ],
   "source": [
    "# 水平拼接\n",
    "print(np.hstack([arr2, arr3]))\n",
    "# 垂直拼接\n",
    "print(\"\\n\")\n",
    "print(np.vstack([arr2, arr3]))"
   ]
  },
  {
   "cell_type": "markdown",
   "metadata": {},
   "source": [
    "### 4、创建一个16*16的数组，其中，数组的外围均为1，内部均为0，提示：用到切片赋值。"
   ]
  },
  {
   "cell_type": "code",
   "execution_count": 11,
   "metadata": {},
   "outputs": [
    {
     "name": "stdout",
     "output_type": "stream",
     "text": [
      "[[1. 1. 1. 1. 1. 1. 1. 1. 1. 1. 1. 1. 1. 1. 1. 1.]\n",
      " [1. 0. 0. 0. 0. 0. 0. 0. 0. 0. 0. 0. 0. 0. 0. 1.]\n",
      " [1. 0. 0. 0. 0. 0. 0. 0. 0. 0. 0. 0. 0. 0. 0. 1.]\n",
      " [1. 0. 0. 0. 0. 0. 0. 0. 0. 0. 0. 0. 0. 0. 0. 1.]\n",
      " [1. 0. 0. 0. 0. 0. 0. 0. 0. 0. 0. 0. 0. 0. 0. 1.]\n",
      " [1. 0. 0. 0. 0. 0. 0. 0. 0. 0. 0. 0. 0. 0. 0. 1.]\n",
      " [1. 0. 0. 0. 0. 0. 0. 0. 0. 0. 0. 0. 0. 0. 0. 1.]\n",
      " [1. 0. 0. 0. 0. 0. 0. 0. 0. 0. 0. 0. 0. 0. 0. 1.]\n",
      " [1. 0. 0. 0. 0. 0. 0. 0. 0. 0. 0. 0. 0. 0. 0. 1.]\n",
      " [1. 0. 0. 0. 0. 0. 0. 0. 0. 0. 0. 0. 0. 0. 0. 1.]\n",
      " [1. 0. 0. 0. 0. 0. 0. 0. 0. 0. 0. 0. 0. 0. 0. 1.]\n",
      " [1. 0. 0. 0. 0. 0. 0. 0. 0. 0. 0. 0. 0. 0. 0. 1.]\n",
      " [1. 0. 0. 0. 0. 0. 0. 0. 0. 0. 0. 0. 0. 0. 0. 1.]\n",
      " [1. 0. 0. 0. 0. 0. 0. 0. 0. 0. 0. 0. 0. 0. 0. 1.]\n",
      " [1. 0. 0. 0. 0. 0. 0. 0. 0. 0. 0. 0. 0. 0. 0. 1.]\n",
      " [1. 1. 1. 1. 1. 1. 1. 1. 1. 1. 1. 1. 1. 1. 1. 1.]]\n"
     ]
    }
   ],
   "source": [
    "arr4 = np.zeros((16, 16))\n",
    "# print(arr4)\n",
    "arr4[0] = 1\n",
    "arr4[:, 0] = 1\n",
    "arr4[arr4.shape[0] - 1] = 1\n",
    "arr4[:, arr4.shape[1] - 1] = 1\n",
    "print(arr4)"
   ]
  },
  {
   "cell_type": "markdown",
   "metadata": {},
   "source": [
    "## 题目二 简单编程题（numpy四大运算和通用函数）"
   ]
  },
  {
   "cell_type": "markdown",
   "metadata": {},
   "source": [
    "### 5、创建一个由10000个元素构成的一维数组，元素随机取自[0, 100)\n",
    " 求数组元素的均值、方差和标准差；\n",
    "\n",
    " 通过 (x-x.mean)/x.std的方法，将数组归一化。\n",
    "\n",
    " 求数组的最大值和最小值，并获取其索引位置；\n",
    "\n",
    " 通过 (x-x.min)/(x.max-x.min)的方法，将数组归一化。"
   ]
  },
  {
   "cell_type": "code",
   "execution_count": 12,
   "metadata": {},
   "outputs": [],
   "source": [
    "arr5 = np.random.randint(0, 100, 10000)"
   ]
  },
  {
   "cell_type": "code",
   "execution_count": 13,
   "metadata": {},
   "outputs": [
    {
     "name": "stdout",
     "output_type": "stream",
     "text": [
      "[30 78 43 ... 39 99 11]\n"
     ]
    }
   ],
   "source": [
    "print(arr5)"
   ]
  },
  {
   "cell_type": "code",
   "execution_count": 14,
   "metadata": {},
   "outputs": [
    {
     "name": "stdout",
     "output_type": "stream",
     "text": [
      "均值 = 49.5523, 方差 = 830.88746471, 标准差 = 28.82511864173329\n"
     ]
    }
   ],
   "source": [
    "print(\"均值 = {}, 方差 = {}, 标准差 = {}\".format(arr5.mean(), arr5.var(), arr5.std()))"
   ]
  },
  {
   "cell_type": "code",
   "execution_count": 15,
   "metadata": {},
   "outputs": [
    {
     "name": "stdout",
     "output_type": "stream",
     "text": [
      "[-0.6783077   0.98690661 -0.22731216 ... -0.36608002  1.71543787\n",
      " -1.33745503]\n"
     ]
    }
   ],
   "source": [
    "print((arr5 - arr5.mean()) / arr5.std())"
   ]
  },
  {
   "cell_type": "code",
   "execution_count": 16,
   "metadata": {},
   "outputs": [
    {
     "name": "stdout",
     "output_type": "stream",
     "text": [
      "99 190\n",
      "0 34\n"
     ]
    }
   ],
   "source": [
    "# 最大值\n",
    "print(arr5.max(), arr5.argmax())\n",
    "# 最小值\n",
    "print(arr5.min(), arr5.argmin())"
   ]
  },
  {
   "cell_type": "code",
   "execution_count": 17,
   "metadata": {},
   "outputs": [
    {
     "name": "stdout",
     "output_type": "stream",
     "text": [
      "[0.3030303  0.78787879 0.43434343 ... 0.39393939 1.         0.11111111]\n"
     ]
    }
   ],
   "source": [
    "print((arr5 - arr5.min()) / (arr5.max() - arr5.min()))"
   ]
  },
  {
   "cell_type": "markdown",
   "metadata": {},
   "source": [
    "### 6、创建一个由30个元素构成的一维数组，元素随机取自[80, 100)\n",
    " 获得大于等于95分的成绩；\n",
    "\n",
    " 获得小于等于85分的成绩；\n",
    "\n",
    " 获得大于85分，小于95分的成绩；\n",
    "\n",
    " 对成绩进行排序。"
   ]
  },
  {
   "cell_type": "code",
   "execution_count": 18,
   "metadata": {},
   "outputs": [
    {
     "name": "stdout",
     "output_type": "stream",
     "text": [
      "[89 90 97 96 83 97 92 82 98 90 86 99 94 98 98 91 91 85 98 81 98 82 86 84\n",
      " 89 98 98 98 95 87]\n"
     ]
    }
   ],
   "source": [
    "score = np.random.randint(80, 100, 30)\n",
    "print(score)"
   ]
  },
  {
   "cell_type": "code",
   "execution_count": 19,
   "metadata": {},
   "outputs": [
    {
     "name": "stdout",
     "output_type": "stream",
     "text": [
      "[97 96 97 98 99 98 98 98 98 98 98 98 95]\n",
      "[83 82 85 81 82 84]\n"
     ]
    }
   ],
   "source": [
    "print(score[score >= 95])\n",
    "print(score[score <= 85])"
   ]
  },
  {
   "cell_type": "code",
   "execution_count": 22,
   "metadata": {},
   "outputs": [
    {
     "name": "stdout",
     "output_type": "stream",
     "text": [
      "[89 90 92 90 86 94 91 91 86 89 87]\n"
     ]
    }
   ],
   "source": [
    "score_over_85 = score[score > 85]\n",
    "print(score_over_85[score_over_85 < 95])\n",
    "# print(score[score > 85 and score < 95]) "
   ]
  },
  {
   "cell_type": "code",
   "execution_count": 23,
   "metadata": {},
   "outputs": [
    {
     "name": "stdout",
     "output_type": "stream",
     "text": [
      "[81 82 82 83 84 85 86 86 87 89 89 90 90 91 91 92 94 95 96 97 97 98 98 98\n",
      " 98 98 98 98 98 99]\n"
     ]
    }
   ],
   "source": [
    "print(np.sort(score))"
   ]
  },
  {
   "cell_type": "markdown",
   "metadata": {},
   "source": [
    "### 7、构建两个3*3的二维列表A和B\n",
    "（1）乘法运算\n",
    "\n",
    " 用Python for循环实现A*B的乘法运算；\n",
    "\n",
    " 用Numpy 实现A*B 的乘法运算；\n",
    "\n",
    " 对比两种实现方式的运行时间。\n",
    "\n",
    "（2）矩阵乘法\n",
    "\n",
    " 用Python for循环实现A和B的矩阵乘法；\n",
    "\n",
    " 用Numpy实现np.dot(A, B)的矩阵乘法；\n",
    "\n",
    " 对比两种实现方式的运行时间。\n",
    "\n",
    "（3）对比矩阵乘法跟乘法运算的不同。"
   ]
  },
  {
   "cell_type": "code",
   "execution_count": 24,
   "metadata": {},
   "outputs": [
    {
     "name": "stdout",
     "output_type": "stream",
     "text": [
      "[[1, 2, 3], [4, 5, 6], [7, 8, 9]] [[3, 4, 8], [5, 2, 1], [4, 5, 9]]\n"
     ]
    }
   ],
   "source": [
    "A = [[1, 2, 3], [4, 5, 6], [7, 8, 9]]\n",
    "B = [[3, 4, 8], [5, 2, 1], [4, 5, 9]]\n",
    "print(A, B)"
   ]
  },
  {
   "cell_type": "code",
   "execution_count": 26,
   "metadata": {},
   "outputs": [
    {
     "name": "stdout",
     "output_type": "stream",
     "text": [
      "1571993538.380726 1571993538.381723\n",
      "A = [[9, 32, 192], [100, 20, 6], [112, 200, 729]], the cost time is 0.9968280792236328ms\n"
     ]
    }
   ],
   "source": [
    "# 乘法运算\n",
    "import time\n",
    "\n",
    "start_time = time.time()\n",
    "for i in range(len(A)):\n",
    "        for j  in range(len(B)):\n",
    "            A[i][j] = A[i][j] * B[i][j]\n",
    "end_time = time.time()                \n",
    "\n",
    "print(start_time, end_time)\n",
    "print(\"A = {}, the cost time is {}ms\".format(A, (end_time - start_time) * 1000))"
   ]
  },
  {
   "cell_type": "code",
   "execution_count": 27,
   "metadata": {},
   "outputs": [],
   "source": [
    "A = np.array(A)\n",
    "B = np.array(B)"
   ]
  },
  {
   "cell_type": "code",
   "execution_count": 28,
   "metadata": {},
   "outputs": [
    {
     "name": "stdout",
     "output_type": "stream",
     "text": [
      "525 ns ± 29.6 ns per loop (mean ± std. dev. of 7 runs, 1000000 loops each)\n"
     ]
    }
   ],
   "source": [
    "%timeit (A * B)"
   ]
  },
  {
   "cell_type": "code",
   "execution_count": 29,
   "metadata": {},
   "outputs": [
    {
     "name": "stdout",
     "output_type": "stream",
     "text": [
      "960 ns ± 24.1 ns per loop (mean ± std. dev. of 7 runs, 1000000 loops each)\n"
     ]
    }
   ],
   "source": [
    "# 矩阵乘法\n",
    "%timeit A.dot(B)"
   ]
  },
  {
   "cell_type": "code",
   "execution_count": 30,
   "metadata": {},
   "outputs": [
    {
     "data": {
      "text/plain": [
       "array([[ 955, 1060, 1832],\n",
       "       [ 424,  470,  874],\n",
       "       [4252, 4493, 7657]])"
      ]
     },
     "execution_count": 30,
     "metadata": {},
     "output_type": "execute_result"
    }
   ],
   "source": [
    "A.dot(B)"
   ]
  },
  {
   "cell_type": "code",
   "execution_count": 31,
   "metadata": {},
   "outputs": [],
   "source": [
    "A = [[1, 2, 3], [4, 5, 6], [7, 8, 9]]\n",
    "B = [[3, 4, 8], [5, 2, 1], [4, 5, 9]]"
   ]
  },
  {
   "cell_type": "code",
   "execution_count": 32,
   "metadata": {},
   "outputs": [],
   "source": [
    "def pro():\n",
    "    res = [[0] * len(B[0]) for i in range(len(A))]\n",
    "    for i in range(len(A)):\n",
    "        for j in range(len(B[0])):\n",
    "            for k in range(len(B)):\n",
    "                res[i][j] += A[i][k] * B[k][j]\n",
    "    return res"
   ]
  },
  {
   "cell_type": "code",
   "execution_count": 33,
   "metadata": {},
   "outputs": [
    {
     "name": "stdout",
     "output_type": "stream",
     "text": [
      "12.7 µs ± 83.1 ns per loop (mean ± std. dev. of 7 runs, 100000 loops each)\n"
     ]
    }
   ],
   "source": [
    "%timeit pro()"
   ]
  },
  {
   "cell_type": "code",
   "execution_count": null,
   "metadata": {},
   "outputs": [],
   "source": []
  }
 ],
 "metadata": {
  "kernelspec": {
   "display_name": "Python 3",
   "language": "python",
   "name": "python3"
  },
  "language_info": {
   "codemirror_mode": {
    "name": "ipython",
    "version": 3
   },
   "file_extension": ".py",
   "mimetype": "text/x-python",
   "name": "python",
   "nbconvert_exporter": "python",
   "pygments_lexer": "ipython3",
   "version": "3.7.3"
  }
 },
 "nbformat": 4,
 "nbformat_minor": 4
}

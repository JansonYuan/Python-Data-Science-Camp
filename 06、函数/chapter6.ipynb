{
 "cells": [
  {
   "cell_type": "markdown",
   "metadata": {},
   "source": [
    "## 题目一（函数的定义及调用）："
   ]
  },
  {
   "cell_type": "code",
   "execution_count": 77,
   "metadata": {},
   "outputs": [],
   "source": [
    "def func(x, *y, **z):\n",
    "    print(x)\n",
    "    print(y)\n",
    "    print(z)"
   ]
  },
  {
   "cell_type": "code",
   "execution_count": 78,
   "metadata": {},
   "outputs": [],
   "source": [
    "ls = [\"a\", \"b\", \"c\"]"
   ]
  },
  {
   "cell_type": "code",
   "execution_count": 79,
   "metadata": {},
   "outputs": [],
   "source": [
    "d = {\"name\": \"Sarah\", \"age\":18}"
   ]
  },
  {
   "cell_type": "code",
   "execution_count": 80,
   "metadata": {},
   "outputs": [
    {
     "name": "stdout",
     "output_type": "stream",
     "text": [
      "a\n",
      "('b', 'c', 'd')\n",
      "{'name': 'Sarah', 'age': 18}\n"
     ]
    }
   ],
   "source": [
    "func(*ls, \"d\", **d)"
   ]
  },
  {
   "cell_type": "markdown",
   "metadata": {},
   "source": [
    "## 题目二（函数式编程）："
   ]
  },
  {
   "cell_type": "code",
   "execution_count": 81,
   "metadata": {},
   "outputs": [
    {
     "name": "stdin",
     "output_type": "stream",
     "text": [
      "请输入运动员A的每球获胜概率(0~1)： 0.55\n",
      "请输入模拟的场次（正整数）： 100000\n"
     ]
    },
    {
     "name": "stdout",
     "output_type": "stream",
     "text": [
      "模拟比赛总次数： 100000\n",
      "A 选手每球获胜概率： 0.55\n",
      "B 选手每球获胜概率： 0.45\n",
      "共模拟了100000场比赛\n",
      "\u001b[31m选手A获胜74311场，占比74.3%\n",
      "选手B获胜25689场，占比25.7%\n"
     ]
    }
   ],
   "source": [
    "import random\n",
    "\n",
    "\n",
    "def get_inputs():  \n",
    "    # 输入原始数据\n",
    "    prob_A = eval(input(\"请输入运动员A的每球获胜概率(0~1)：\"))\n",
    "    prob_B = round(1-prob_A, 2)\n",
    "    number_of_games = eval(input(\"请输入模拟的场次（正整数）：\"))\n",
    "    print(\"模拟比赛总次数：\", number_of_games)\n",
    "    print(\"A 选手每球获胜概率：\", prob_A)\n",
    "    print(\"B 选手每球获胜概率：\", prob_B)\n",
    "    return prob_A, prob_B, number_of_games\n",
    "\n",
    "\n",
    "def game_over(score_A, score_B):\n",
    "    # 单场模拟结束条件，一方先达到21分，比赛结束    \n",
    "    return score_A == 21 or score_B == 21\n",
    "\n",
    "\n",
    "def sim_one_game(prob_A, prob_B):\n",
    "    # 模拟一场比赛的结果\n",
    "    score_A, score_B = 0, 0\n",
    "    while not game_over(score_A, score_B):\n",
    "        if random.random() < prob_A:                # random.random() 生产[0,1)之间的随机小数,均匀分布\n",
    "            score_A += 1                 \n",
    "        else:\n",
    "            score_B += 1\n",
    "    return score_A, score_B\n",
    "\n",
    "\n",
    "def sim_n_games(prob_A, prob_B, number_of_games):\n",
    "    # 模拟多场比赛的结果\n",
    "    win_A, win_B = 0, 0                # 初始化A、B获胜的场次\n",
    "    for i in range(number_of_games):   # 迭代number_of_games次\n",
    "        score_A, score_B = sim_one_game(prob_A, prob_B)  # 获得模拟依次比赛的比分\n",
    "        if score_A > score_B:\n",
    "            win_A += 1\n",
    "        else:\n",
    "            win_B += 1\n",
    "    return win_A, win_B\n",
    "\n",
    "\n",
    "def print_summary(win_A, win_B, number_of_games):\n",
    "    # 结果汇总输出\n",
    "    print(\"共模拟了{}场比赛\".format(number_of_games))\n",
    "    print(\"\\033[31m选手A获胜{0}场，占比{1:.1%}\".format(win_A, win_A/number_of_games))\n",
    "    print(\"选手B获胜{0}场，占比{1:.1%}\".format(win_B, win_B/number_of_games))\n",
    "    \n",
    "\n",
    "def main():\n",
    "    # 主要逻辑\n",
    "    prob_A, prob_B, number_of_games = get_inputs()                        # 获取原始数据\n",
    "    win_A, win_B = sim_n_games(prob_A, prob_B, number_of_games)           # 获取模拟结果\n",
    "    print_summary(win_A, win_B, number_of_games)                          # 结果汇总输出\n",
    "\n",
    "\n",
    "if __name__ == \"__main__\":\n",
    "    main()"
   ]
  },
  {
   "cell_type": "markdown",
   "metadata": {},
   "source": [
    "* 对get_inputs函数增加容错，当输入的单球获胜概率不在(0,1)区间内时，提示输入错误，重新输入。"
   ]
  },
  {
   "cell_type": "markdown",
   "metadata": {},
   "source": [
    "* 将每局比赛的获胜规则更改为：一方得分大于等于21分，且与对手分差至少为2分，该种情形第一次出现时，得分高者获得该局比赛的胜利。"
   ]
  },
  {
   "cell_type": "markdown",
   "metadata": {},
   "source": [
    "* 将每场比赛获胜规则更改为：三局两胜，率先获得两局胜利者，获得该场比赛胜利。"
   ]
  },
  {
   "cell_type": "markdown",
   "metadata": {},
   "source": [
    "* 其他条件于本章例题相同，试模拟1万场比赛的结果。"
   ]
  },
  {
   "cell_type": "code",
   "execution_count": 82,
   "metadata": {},
   "outputs": [
    {
     "name": "stdin",
     "output_type": "stream",
     "text": [
      "请输入运动员A的每球获胜概率(0~1)： 5\n",
      "请输入运动员A的每球获胜概率(0~1)： -3\n",
      "请输入运动员A的每球获胜概率(0~1)： 0.45\n",
      "请输入模拟的场次（正整数）： 100000\n"
     ]
    },
    {
     "name": "stdout",
     "output_type": "stream",
     "text": [
      "模拟比赛总次数： 100000\n",
      "A 选手每球获胜概率： 0.45\n",
      "B 选手每球获胜概率： 0.55\n",
      "共模拟了100000场比赛\n",
      "\u001b[31m选手A获胜42353场，占比42.4%\n",
      "选手B获胜57647场，占比57.6%\n"
     ]
    }
   ],
   "source": [
    "import random\n",
    "\n",
    "\n",
    "def get_inputs():  \n",
    "    # 输入原始数据\n",
    "    while True:\n",
    "        prob_A = eval(input(\"请输入运动员A的每球获胜概率(0~1)：\"))\n",
    "        if prob_A > 0 and prob_A < 1:\n",
    "            break\n",
    "    \n",
    "    prob_B = round(1-prob_A, 2)\n",
    "    number_of_games = eval(input(\"请输入模拟的场次（正整数）：\"))\n",
    "    print(\"模拟比赛总次数：\", number_of_games)\n",
    "    print(\"A 选手每球获胜概率：\", prob_A)\n",
    "    print(\"B 选手每球获胜概率：\", prob_B)\n",
    "    return prob_A, prob_B, number_of_games\n",
    "\n",
    "\n",
    "def game_over(score_A, score_B):\n",
    "    # 单场模拟结束条件，一方得分大于等于21分，且与对手分差至少为2分    \n",
    "    return (score_A == 21 or score_B == 21) and (abs(score_A - score_B) >= 2)\n",
    "\n",
    "\n",
    "def sim_one_game(prob_A, prob_B):\n",
    "    # 模拟一场比赛的结果\n",
    "    cnt_A, cnt_B = 0, 0\n",
    "    score_A, score_B = 0, 0\n",
    "    flag = True\n",
    "    for i in range(3):\n",
    "        if flag == False:\n",
    "            break\n",
    "        while not game_over(score_A, score_B):\n",
    "            if random.random() < prob_A:                # random.random() 生产[0,1)之间的随机小数,均匀分布\n",
    "                score_A += 1\n",
    "                cnt_A += 1\n",
    "            else:\n",
    "                score_B += 1\n",
    "                cnt_B += 1\n",
    "            if cnt_A == 2 or cnt_B == 2:\n",
    "                flag = False\n",
    "                break\n",
    "    return score_A, score_B\n",
    "\n",
    "\n",
    "def sim_n_games(prob_A, prob_B, number_of_games):\n",
    "    # 模拟多场比赛的结果\n",
    "    win_A, win_B = 0, 0                # 初始化A、B获胜的场次\n",
    "    for i in range(number_of_games):   # 迭代number_of_games次\n",
    "        score_A, score_B = sim_one_game(prob_A, prob_B)  # 获得模拟依次比赛的比分\n",
    "        if score_A > score_B:\n",
    "            win_A += 1\n",
    "        else:\n",
    "            win_B += 1\n",
    "    return win_A, win_B\n",
    "\n",
    "\n",
    "def print_summary(win_A, win_B, number_of_games):\n",
    "    # 结果汇总输出\n",
    "    print(\"共模拟了{}场比赛\".format(number_of_games))\n",
    "    print(\"\\033[31m选手A获胜{0}场，占比{1:.1%}\".format(win_A, win_A/number_of_games))\n",
    "    print(\"选手B获胜{0}场，占比{1:.1%}\".format(win_B, win_B/number_of_games))\n",
    "    \n",
    "\n",
    "def main():\n",
    "    # 主要逻辑\n",
    "    prob_A, prob_B, number_of_games = get_inputs()                        # 获取原始数据\n",
    "    win_A, win_B = sim_n_games(prob_A, prob_B, number_of_games)           # 获取模拟结果\n",
    "    print_summary(win_A, win_B, number_of_games)                          # 结果汇总输出\n",
    "\n",
    "\n",
    "if __name__ == \"__main__\":\n",
    "    main()"
   ]
  },
  {
   "cell_type": "markdown",
   "metadata": {},
   "source": [
    "## 题目三（匿名函数）："
   ]
  },
  {
   "cell_type": "code",
   "execution_count": 83,
   "metadata": {},
   "outputs": [
    {
     "name": "stdout",
     "output_type": "stream",
     "text": [
      "{'八': 2, '百': 2, '标': 3, '兵': 6, '奔': 1, '北': 2, '坡': 2, '，': 2, '炮': 5, '。': 2, '怕': 2, '碰': 2, '把': 1}\n"
     ]
    }
   ],
   "source": [
    "s = \"八百标兵奔北坡，北坡八百炮兵炮。标兵怕碰炮兵炮，炮兵怕把标兵碰。\"\n",
    "d = {}\n",
    "for i in s:\n",
    "    d[i] = d.get(i, 0) + 1\n",
    "print(d)"
   ]
  },
  {
   "cell_type": "code",
   "execution_count": 84,
   "metadata": {},
   "outputs": [
    {
     "name": "stdout",
     "output_type": "stream",
     "text": [
      "[('兵', 6), ('炮', 5), ('标', 3), ('八', 2), ('百', 2), ('北', 2), ('坡', 2), ('，', 2), ('。', 2), ('怕', 2), ('碰', 2), ('奔', 1), ('把', 1)]\n"
     ]
    }
   ],
   "source": [
    "print(sorted(d.items(), key = lambda item : item[1], reverse=True))"
   ]
  },
  {
   "cell_type": "markdown",
   "metadata": {},
   "source": [
    "### 关于lambda表达式"
   ]
  },
  {
   "cell_type": "markdown",
   "metadata": {},
   "source": [
    "###  Python中，lambda函数也叫匿名函数，及即没有具体名称的函数，它允许快速定义单行函数，类似于C语言的宏，可以用在任何需要函数的地方。这区别于def定义的函数。"
   ]
  },
  {
   "cell_type": "markdown",
   "metadata": {},
   "source": [
    "### blog：https://blog.csdn.net/zjuxsl/article/details/79437563"
   ]
  }
 ],
 "metadata": {
  "kernelspec": {
   "display_name": "Python 3",
   "language": "python",
   "name": "python3"
  },
  "language_info": {
   "codemirror_mode": {
    "name": "ipython",
    "version": 3
   },
   "file_extension": ".py",
   "mimetype": "text/x-python",
   "name": "python",
   "nbconvert_exporter": "python",
   "pygments_lexer": "ipython3",
   "version": "3.7.3"
  }
 },
 "nbformat": 4,
 "nbformat_minor": 4
}

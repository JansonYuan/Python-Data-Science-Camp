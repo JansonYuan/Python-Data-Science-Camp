{
 "cells": [
  {
   "cell_type": "markdown",
   "metadata": {},
   "source": [
    "## 题目一 模拟经典的“三门问题”"
   ]
  },
  {
   "cell_type": "code",
   "execution_count": 2,
   "metadata": {},
   "outputs": [],
   "source": [
    "import random\n",
    "import numpy as np"
   ]
  },
  {
   "cell_type": "code",
   "execution_count": 3,
   "metadata": {},
   "outputs": [
    {
     "data": {
      "text/plain": [
       "0.6230306573030799"
      ]
     },
     "execution_count": 3,
     "metadata": {},
     "output_type": "execute_result"
    }
   ],
   "source": [
    "P_A = random.random() # 打开A门赢的概率\n",
    "P_A"
   ]
  },
  {
   "cell_type": "code",
   "execution_count": 4,
   "metadata": {},
   "outputs": [],
   "source": [
    "P_NOT_CHANGE = [] # 不改变换门赢的概率\n",
    "P_CHANGE = [] # 改变换门赢的概率P"
   ]
  },
  {
   "cell_type": "code",
   "execution_count": 5,
   "metadata": {},
   "outputs": [],
   "source": [
    "for i in range(10000):\n",
    "    P_NOT_CHANGE.append(random.random())\n",
    "    P_CHANGE.append(random.random())\n",
    "    \n",
    "P_NOT_CHANGE = np.mean(P_NOT_CHANGE)\n",
    "P_CHANGE = np.mean(P_CHANGE)"
   ]
  },
  {
   "cell_type": "code",
   "execution_count": 6,
   "metadata": {},
   "outputs": [
    {
     "name": "stdout",
     "output_type": "stream",
     "text": [
      "P_NOT_CHANGE = 0.5005871478816181, P_CHANGE = 0.5014365866635259\n"
     ]
    }
   ],
   "source": [
    "print(\"P_NOT_CHANGE = {}, P_CHANGE = {}\".format(P_NOT_CHANGE, P_CHANGE))"
   ]
  },
  {
   "cell_type": "markdown",
   "metadata": {},
   "source": [
    "## 题目二 求解经典的“24点问题”"
   ]
  },
  {
   "cell_type": "code",
   "execution_count": 8,
   "metadata": {},
   "outputs": [],
   "source": [
    "import operator\n",
    "from itertools import product, permutations\n",
    "import time"
   ]
  },
  {
   "cell_type": "code",
   "execution_count": 9,
   "metadata": {},
   "outputs": [],
   "source": [
    "def mydiv(n, d):\n",
    "    return n / d if d != 0 else 999999999"
   ]
  },
  {
   "cell_type": "code",
   "execution_count": 10,
   "metadata": {},
   "outputs": [],
   "source": [
    "syms = [operator.add, operator.sub, operator.mul, mydiv]\n",
    "op = {sym: ch for sym, ch in zip(syms, '+-*/')}"
   ]
  },
  {
   "cell_type": "code",
   "execution_count": 11,
   "metadata": {},
   "outputs": [],
   "source": [
    "def solve24(nums):\n",
    "    for x, y, z in product(syms, repeat=3):\n",
    "        for a, b, c, d in permutations(nums):\n",
    "            if round(x(y(a, b), z(c, d)), 5) == 24:\n",
    "                return f\"({a} ({op[y]} {b}) {op[x]} ({c} {op[z]}) {d})\"\n",
    "            elif round(x(a, y(b, z(c, d))), 5) == 24:\n",
    "                return f\"{a} {op[x]} ({b} {op[y]} ({c} {op[z]} {d}))\"\n",
    "            elif round(x(y(z(c,d), b), a), 5) == 24:\n",
    "                return f\"(({c} {op[z]} {d}) {op[y]} {b}) {op[x]} {a}\"\n",
    "            elif round(x(y(b, z(c, d)), a), 5) == 24:\n",
    "                return f\"({b} {op[y]} ({c} {op[z]} {d})) {op[x]} {a} \"\n",
    "    return \"No Answer!\""
   ]
  },
  {
   "cell_type": "code",
   "execution_count": 12,
   "metadata": {},
   "outputs": [
    {
     "name": "stdout",
     "output_type": "stream",
     "text": [
      "solve24([2, 2, 2, 9]) -> 2 + (2 * (2 + 9))\n",
      "solve24([7, 9, 2, 8]) -> ((7 + 9) * 2) - 8\n",
      "solve24([7, 7, 1, 2]) -> ((7 * 7) - 1) / 2\n",
      "solve24([10, 10, 4, 4]) -> ((10 * 10) - 4) / 4\n",
      "solve24([9, 9, 10, 6]) -> 9 + (9 * (10 / 6))\n",
      "solve24([5, 5, 1, 5]) -> 5 * (5 - (1 / 5))\n",
      "solve24([5, 5, 2, 10]) -> 5 * (5 - (2 / 10))\n",
      "solve24([4, 1, 5, 6]) -> 4 / (1 - (5 / 6))\n",
      "solve24([7, 3, 3, 7]) -> 7 * (3 + (3 / 7))\n",
      "solve24([8, 3, 8, 3]) -> 8 / (3 - (8 / 3))\n",
      "All the time spended: 0.027925968170166016s\n"
     ]
    }
   ],
   "source": [
    "start_time = time.time()\n",
    "for nums in [ [2, 2, 2, 9],\n",
    "            [7, 9, 2, 8],\n",
    "            [7, 7, 1, 2],\n",
    "            [10, 10, 4, 4],\n",
    "            [9, 9, 10, 6],\n",
    "            [5, 5, 1, 5],\n",
    "            [5, 5, 2, 10],\n",
    "            [4, 1, 5, 6],\n",
    "            [7, 3, 3, 7],\n",
    "            [8, 3, 8, 3]]:\n",
    "    print(f\"solve24({nums}) -> {solve24(nums)}\")\n",
    "end_time = time.time()\n",
    "\n",
    "print(\"All the time spended: {}s\".format(end_time - start_time))"
   ]
  },
  {
   "cell_type": "code",
   "execution_count": 13,
   "metadata": {},
   "outputs": [],
   "source": [
    "from collections import OrderedDict\n",
    "# 对于定序数字计算24点,可以用括号改变计算顺序\n",
    "# https://blog.csdn.net/acsunqi/article/details/50659784\n",
    "def insertr(num,lst,s):\n",
    "    lenth=len(lst)\n",
    "    if num==lenth:\n",
    "        lst.append(s)\n",
    "    else:\n",
    "        lst.insert(num+1,s)\n",
    "\n",
    "def getopera(s):\n",
    "    #获取字符串中操作符的位置\n",
    "    t=[]\n",
    "    for k in range(len(s)):\n",
    "        if s[k] in ['+','-','*','/']:\n",
    "            t.append(k)\n",
    "    return t\n",
    "\n",
    "\n",
    "def kuohao(num,lst):\n",
    "    #在操作元两边添加括号\n",
    "    t=getopera(lst)\n",
    "    pos=t[num] #获取数组中第num个opera的位置\n",
    "    lenth=len(lst)\n",
    "    if lst[pos-1]==')' : #判断左操作元是否为（a*d）形式and (lst[pos]==\"+\" or lst[pos]=='-)')\n",
    "        insertr(pos+1,lst,')')\n",
    "        for le in reversed(range(pos)):\n",
    "            if lst[le]=='(':\n",
    "                lst.insert(le,'(')\n",
    "                break\n",
    "    elif lst[pos+1]=='(':# and (lst[pos]==\"+\" or lst[pos]=='-)')\n",
    "        lst.insert(pos-1,'(')\n",
    "        t=getopera(lst)\n",
    "        pos=t[num] #获取数组中第num个opera的位置\n",
    "        lenth=len(lst)\n",
    "        for le in range(pos+1,lenth):\n",
    "            if lst[le]==')':\n",
    "                insertr(le,lst,')')\n",
    "                break\n",
    "    else:\n",
    "        lst.insert(pos-1,'(')\n",
    "        insertr(pos+1+1,lst,')')\n",
    "\n",
    "def list2str(lst):\n",
    "    t=''\n",
    "    for s in lst:\n",
    "        t+=str(s)\n",
    "    return t\n",
    "def listchange(lst):#删除表达式中不必要的list\n",
    "    pass\n",
    "\n",
    "def cal24(s):\n",
    "    ans=[]\n",
    "    a,b,c,d=list(map(str,s))\n",
    "    opera=['+','-','*','/']\n",
    "    for op1 in opera:\n",
    "        for op2 in opera:\n",
    "            for op3 in opera:\n",
    "                for i in range(3):\n",
    "                    s=[a,op1,b,op2,c,op3,d]\n",
    "                    kuohao(i,s)\n",
    "                    for j in range(3):\n",
    "                        k=s.copy()\n",
    "                        if j==i:\n",
    "                            pass\n",
    "                        else:\n",
    "                            kuohao(j,k)\n",
    "                        exp=list2str(k)\n",
    "                        try:  #使用try可以避免eval 除数为0的错误\n",
    "                            if eval(exp)==24:#将string转化为exp进行计算\n",
    "                                ans.append(exp)\n",
    "                        except:\n",
    "                            pass\n",
    "    return ans"
   ]
  },
  {
   "cell_type": "code",
   "execution_count": 14,
   "metadata": {},
   "outputs": [
    {
     "name": "stdout",
     "output_type": "stream",
     "text": [
      "['2+(2*(2+9))', '2+2*(2+9)']\n",
      "['(7+9)*2-8', '((7+9)*2)-8']\n",
      "['((7*7)-1)/2']\n",
      "['((10*10)-4)/4']\n",
      "['9+(9*10)/6', '9+((9*10)/6)', '9+(9*(10/6))', '9+9*(10/6)']\n",
      "['5*(5-(1/5))']\n",
      "['5*(5-(2/10))']\n",
      "Impossible\n",
      "['7*(3+(3/7))']\n",
      "Impossible\n",
      "All the time spended: 0.12067437171936035s\n"
     ]
    }
   ],
   "source": [
    "numbers = [ [2, 2, 2, 9],\n",
    "            [7, 9, 2, 8],\n",
    "            [7, 7, 1, 2],\n",
    "            [10, 10, 4, 4],\n",
    "            [9, 9, 10, 6],\n",
    "            [5, 5, 1, 5],\n",
    "            [5, 5, 2, 10],\n",
    "            [4, 1, 5, 6],\n",
    "            [7, 3, 3, 7],\n",
    "            [8, 3, 8, 3]]\n",
    "\n",
    "start_time = time.time()\n",
    "for i in range(10):\n",
    "    s = cal24(numbers[i])\n",
    "    if len(s)==0:\n",
    "        print('Impossible')\n",
    "    else:\n",
    "        print(s)\n",
    "end_time = time.time()\n",
    "print(\"All the time spended: {}s\".format(end_time - start_time))"
   ]
  },
  {
   "cell_type": "code",
   "execution_count": null,
   "metadata": {},
   "outputs": [],
   "source": []
  }
 ],
 "metadata": {
  "kernelspec": {
   "display_name": "Python 3",
   "language": "python",
   "name": "python3"
  },
  "language_info": {
   "codemirror_mode": {
    "name": "ipython",
    "version": 3
   },
   "file_extension": ".py",
   "mimetype": "text/x-python",
   "name": "python",
   "nbconvert_exporter": "python",
   "pygments_lexer": "ipython3",
   "version": "3.7.3"
  }
 },
 "nbformat": 4,
 "nbformat_minor": 4
}

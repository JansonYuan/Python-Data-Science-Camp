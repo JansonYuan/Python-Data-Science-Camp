{
 "cells": [
  {
   "cell_type": "markdown",
   "metadata": {},
   "source": [
    "## 题目一 简答题（数据类型的底层实现）"
   ]
  },
  {
   "cell_type": "markdown",
   "metadata": {},
   "source": [
    "### 以下两段程序分别会输出怎样的结果？请运行验证，并给出理由"
   ]
  },
  {
   "cell_type": "markdown",
   "metadata": {},
   "source": [
    "#### 代码1："
   ]
  },
  {
   "cell_type": "code",
   "execution_count": 4,
   "metadata": {},
   "outputs": [
    {
     "name": "stdout",
     "output_type": "stream",
     "text": [
      "[1]\n",
      "[1, 1]\n",
      "[1, 1, 1]\n"
     ]
    }
   ],
   "source": [
    "def f1(ls=[]):\n",
    "    ls.append(1)\n",
    "    return ls\n",
    "\n",
    "\n",
    "print(f1())\n",
    "print(f1())\n",
    "print(f1())"
   ]
  },
  {
   "cell_type": "markdown",
   "metadata": {},
   "source": [
    "#### 代码2："
   ]
  },
  {
   "cell_type": "code",
   "execution_count": 6,
   "metadata": {},
   "outputs": [
    {
     "name": "stdout",
     "output_type": "stream",
     "text": [
      "{'name': 'Mary', 'id': 2}\n",
      "[{'name': 'Mary', 'id': 2}, {'name': 'Mary', 'id': 2}, {'name': 'Mary', 'id': 2}]\n"
     ]
    }
   ],
   "source": [
    "person = {\"name\": \"\", \"id\": 0} \n",
    "team = []\n",
    "\n",
    "for i in range(3): \n",
    "    x = person \n",
    "    x[\"id\"] = i \n",
    "    team.append(x) \n",
    "    \n",
    "team[0][\"name\"] = \"Peter\" \n",
    "team[1][\"name\"] = \"Paul\" \n",
    "team[2][\"name\"] = \"Mary\" \n",
    "    \n",
    "print(team[1])\n",
    "print(team)"
   ]
  },
  {
   "cell_type": "markdown",
   "metadata": {},
   "source": [
    "## 题目二 编程题（更加简洁的语法）"
   ]
  },
  {
   "cell_type": "markdown",
   "metadata": {},
   "source": [
    "### 1、用列表推导实现一个过滤器"
   ]
  },
  {
   "cell_type": "markdown",
   "metadata": {},
   "source": [
    "* 实现一个判断数字n是否为素数的函数isprime(n)；"
   ]
  },
  {
   "cell_type": "code",
   "execution_count": 7,
   "metadata": {},
   "outputs": [],
   "source": [
    "from math import sqrt\n",
    "\n",
    "def is_prime(num):\n",
    "    '''判断一个数是否为素数'''\n",
    "    if num == 1:\n",
    "        return False\n",
    "    for i in range(2, int(sqrt(num)) + 1):\n",
    "        if num % i == 0:\n",
    "            return False\n",
    "    return True"
   ]
  },
  {
   "cell_type": "markdown",
   "metadata": {},
   "source": [
    "* 利用列表推导，获得100以内的素数列表；"
   ]
  },
  {
   "cell_type": "code",
   "execution_count": 8,
   "metadata": {},
   "outputs": [
    {
     "data": {
      "text/plain": [
       "[2,\n",
       " 3,\n",
       " 5,\n",
       " 7,\n",
       " 11,\n",
       " 13,\n",
       " 17,\n",
       " 19,\n",
       " 23,\n",
       " 29,\n",
       " 31,\n",
       " 37,\n",
       " 41,\n",
       " 43,\n",
       " 47,\n",
       " 53,\n",
       " 59,\n",
       " 61,\n",
       " 67,\n",
       " 71,\n",
       " 73,\n",
       " 79,\n",
       " 83,\n",
       " 89,\n",
       " 97]"
      ]
     },
     "execution_count": 8,
     "metadata": {},
     "output_type": "execute_result"
    }
   ],
   "source": [
    "[i for i in range(1, 100) if is_prime(i)]"
   ]
  },
  {
   "cell_type": "markdown",
   "metadata": {},
   "source": [
    "### 2、使用列表推导，实现两列表对应元素的操作"
   ]
  },
  {
   "cell_type": "markdown",
   "metadata": {},
   "source": [
    "* 获得新列表z，列表内元素\n",
    "\n",
    "z[i] = pow(x[i], y[i])\n",
    "\n",
    "x = [1，2, 3, 4]\n",
    "\n",
    "y = [0，2, 3, 1]"
   ]
  },
  {
   "cell_type": "code",
   "execution_count": 14,
   "metadata": {},
   "outputs": [
    {
     "data": {
      "text/plain": [
       "[1.0, 4.0, 27.0, 4.0]"
      ]
     },
     "execution_count": 14,
     "metadata": {},
     "output_type": "execute_result"
    }
   ],
   "source": [
    "from math import pow\n",
    "\n",
    "x = [1, 2, 3, 4]\n",
    "y = [0, 2, 3, 1]\n",
    "z = [pow(x[i], y[i]) for i in range(len(x))]\n",
    "z"
   ]
  },
  {
   "cell_type": "markdown",
   "metadata": {},
   "source": [
    "### 3、使用条件表达式，将x，y 中的最大值赋值给z"
   ]
  },
  {
   "cell_type": "code",
   "execution_count": 16,
   "metadata": {},
   "outputs": [],
   "source": [
    "x = 10\n",
    "y = 12"
   ]
  },
  {
   "cell_type": "code",
   "execution_count": 17,
   "metadata": {},
   "outputs": [
    {
     "data": {
      "text/plain": [
       "12"
      ]
     },
     "execution_count": 17,
     "metadata": {},
     "output_type": "execute_result"
    }
   ],
   "source": [
    "z = x if x > y else y\n",
    "z"
   ]
  },
  {
   "cell_type": "markdown",
   "metadata": {},
   "source": [
    "## 题目三 编程题（三大神器）"
   ]
  },
  {
   "cell_type": "markdown",
   "metadata": {},
   "source": [
    "### 1、构造一个生产n 以内素数的生成器，与编程题2-1 进行相互验证。"
   ]
  },
  {
   "cell_type": "code",
   "execution_count": 20,
   "metadata": {},
   "outputs": [
    {
     "name": "stdout",
     "output_type": "stream",
     "text": [
      "2\n",
      "3\n",
      "5\n",
      "7\n",
      "11\n",
      "13\n",
      "17\n",
      "19\n",
      "23\n",
      "29\n",
      "31\n",
      "37\n",
      "41\n",
      "43\n",
      "47\n",
      "53\n",
      "59\n",
      "61\n",
      "67\n",
      "71\n",
      "73\n",
      "79\n",
      "83\n",
      "89\n",
      "97\n",
      "101\n",
      "103\n",
      "107\n",
      "109\n",
      "113\n",
      "127\n",
      "131\n",
      "137\n",
      "139\n",
      "149\n",
      "151\n",
      "157\n",
      "163\n",
      "167\n",
      "173\n",
      "179\n",
      "181\n",
      "191\n",
      "193\n",
      "197\n",
      "199\n",
      "211\n",
      "223\n",
      "227\n",
      "229\n",
      "233\n",
      "239\n",
      "241\n",
      "251\n",
      "257\n",
      "263\n",
      "269\n",
      "271\n",
      "277\n",
      "281\n",
      "283\n",
      "293\n",
      "307\n",
      "311\n",
      "313\n",
      "317\n",
      "331\n",
      "337\n",
      "347\n",
      "349\n",
      "353\n",
      "359\n",
      "367\n",
      "373\n",
      "379\n",
      "383\n",
      "389\n",
      "397\n",
      "401\n",
      "409\n",
      "419\n",
      "421\n",
      "431\n",
      "433\n",
      "439\n",
      "443\n",
      "449\n",
      "457\n",
      "461\n",
      "463\n",
      "467\n",
      "479\n",
      "487\n",
      "491\n",
      "499\n",
      "503\n",
      "509\n",
      "521\n",
      "523\n",
      "541\n",
      "547\n"
     ]
    }
   ],
   "source": [
    "#!/usr/bin/python3\n",
    "#coding=utf-8\n",
    "\n",
    "# 参考Blog：https://blog.csdn.net/ZSGG_ACM/article/details/51584624 \n",
    "# '埃式素数生成法'\n",
    " \n",
    "def odd_list():\n",
    "    '''奇数生成器(不包括1)生成的是一个无限序列'''\n",
    "    n = 1\n",
    "    while True:\n",
    "        n += 2\n",
    "        yield n\n",
    "\n",
    "        \n",
    "def filter_not_prime(n):\n",
    "    '''过滤因子'''\n",
    "    return lambda x : x % n #返回闭包\n",
    " \n",
    "\n",
    "def primes():\n",
    "    '''生成素数序列'''\n",
    "    yield 2\n",
    "    it = odd_list()\n",
    "    while True:\n",
    "        n = next(it)\n",
    "        yield n\n",
    "        it = filter(filter_not_prime(n), it)\n",
    "\n",
    "        \n",
    "def is_prime(num):\n",
    "    '''遍历素数生成器'''\n",
    "    for i, x in enumerate(primes()): # enumerate迭代遍历键值对(索引:素数)\n",
    "#         if x > num:\n",
    "        if i > num:\n",
    "            break\n",
    "        else:\n",
    "            print(x)\n",
    "\n",
    "            \n",
    "def run():\n",
    "    is_prime(100);\n",
    "    \n",
    "\n",
    "if __name__ == \"__main__\":\n",
    "    run()"
   ]
  },
  {
   "cell_type": "markdown",
   "metadata": {},
   "source": [
    "### 2、某大型网上购物网站进行中秋节优惠促销活动，请在不改变原计费函数\n",
    "### charge()的基础上，输出“中秋节快乐!”，并实现总价打8 折的优惠。"
   ]
  },
  {
   "cell_type": "markdown",
   "metadata": {},
   "source": [
    "####  实现原计费函数 charge(商品名称, 商品数量 )。\n",
    " 假设只有三种商品，商品名称和单价存储在字典{“water”：1.5，“egg”: 1，“meat”: 15}中；\n",
    "\n",
    " 假设每次只购买一种商品，购买数量1 ~ 5 件, 不打折；购买数量6 ~ 10 件，打95 折；购买数量大于10 打9 折；\n",
    "\n",
    " 返回商品应付总货款。"
   ]
  },
  {
   "cell_type": "markdown",
   "metadata": {},
   "source": [
    "* 在不改变原计费函数源代码和调用方式的前提下，增加如下功能：\n"
   ]
  },
  {
   "cell_type": "markdown",
   "metadata": {},
   "source": [
    " 每次 charge 函数被调用时，输出“中秋节快乐!”；\n",
    "\n",
    " 在原计费函数 charge 返回总价的基础上，对总价打8 折。"
   ]
  },
  {
   "cell_type": "code",
   "execution_count": 21,
   "metadata": {},
   "outputs": [],
   "source": [
    "goods = {\"water\": 1.5, \"egg\": 1, \"meat\": 15}"
   ]
  },
  {
   "cell_type": "code",
   "execution_count": 22,
   "metadata": {},
   "outputs": [
    {
     "name": "stdout",
     "output_type": "stream",
     "text": [
      "中秋节快乐！\n"
     ]
    },
    {
     "data": {
      "text/plain": [
       "3.6"
      ]
     },
     "execution_count": 22,
     "metadata": {},
     "output_type": "execute_result"
    }
   ],
   "source": [
    "def charge(goods_name, goods_count):\n",
    "    '''计算购物所需花费'''\n",
    "    cost = goods[goods_name] * goods_count\n",
    "    if goods_count in range(6):\n",
    "        return cost\n",
    "    elif goods_count in range(11):\n",
    "        return cost * 0.95\n",
    "    elif goods_count > 10:\n",
    "        return cost * 0.9        \n",
    "     \n",
    "\n",
    "def shop(goods_name, goods_count):\n",
    "    print(\"中秋节快乐！\")\n",
    "    return charge(goods_name, goods_count) * 0.8\n",
    "\n",
    "cost = shop(\"water\", 3)\n",
    "cost"
   ]
  },
  {
   "cell_type": "code",
   "execution_count": 23,
   "metadata": {},
   "outputs": [
    {
     "name": "stdout",
     "output_type": "stream",
     "text": [
      "中秋节快乐！\n"
     ]
    },
    {
     "data": {
      "text/plain": [
       "216.0"
      ]
     },
     "execution_count": 23,
     "metadata": {},
     "output_type": "execute_result"
    }
   ],
   "source": [
    "cost = shop(\"meat\", 20)\n",
    "cost"
   ]
  },
  {
   "cell_type": "code",
   "execution_count": null,
   "metadata": {},
   "outputs": [],
   "source": []
  }
 ],
 "metadata": {
  "kernelspec": {
   "display_name": "Python 3",
   "language": "python",
   "name": "python3"
  },
  "language_info": {
   "codemirror_mode": {
    "name": "ipython",
    "version": 3
   },
   "file_extension": ".py",
   "mimetype": "text/x-python",
   "name": "python",
   "nbconvert_exporter": "python",
   "pygments_lexer": "ipython3",
   "version": "3.7.3"
  }
 },
 "nbformat": 4,
 "nbformat_minor": 4
}
